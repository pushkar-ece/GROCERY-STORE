{
  "nbformat": 4,
  "nbformat_minor": 0,
  "metadata": {
    "colab": {
      "provenance": []
    },
    "kernelspec": {
      "name": "python3",
      "display_name": "Python 3"
    },
    "language_info": {
      "name": "python"
    }
  },
  "cells": [
    {
      "cell_type": "code",
      "execution_count": 12,
      "metadata": {
        "id": "u_EkXeFPRtHZ"
      },
      "outputs": [],
      "source": []
    },
    {
      "cell_type": "code",
      "source": [],
      "metadata": {
        "id": "Cr4YP5l6UJVc"
      },
      "execution_count": 8,
      "outputs": []
    },
    {
      "cell_type": "code",
      "source": [
        "#GROCERY STORE CALCULATOR\n",
        "num=int(input(\"Enter number of item u want to purchase \"))\n",
        "total=0\n",
        "for i in range(num):\n",
        "  name=input(\"Enter name of item \")\n",
        "  quan=int(input(\"Enter quantity \"))\n",
        "  price=int(input(\"Enter price \"))\n",
        "  itemtotal=price*quan\n",
        "  print(name,quan,price,itemtotal)\n",
        "  total=total+itemtotal\n",
        "\n",
        "print(\"Total price is \")\n",
        "print(total)\n"
      ],
      "metadata": {
        "colab": {
          "base_uri": "https://localhost:8080/",
          "height": 0
        },
        "id": "6m29cfCbVQi0",
        "outputId": "5b9db28b-1a3d-436d-9f44-4dfd4fb87dda"
      },
      "execution_count": 30,
      "outputs": [
        {
          "output_type": "stream",
          "name": "stdout",
          "text": [
            "Enter number of item u want to purchase 2\n",
            "Enter name of item almonds\n",
            "Enter quantity 2\n",
            "Enter price 1000\n",
            "almonds 2 1000 2000\n",
            "Enter name of item walnuts\n",
            "Enter quantity 5\n",
            "Enter price 800\n",
            "walnuts 5 800 4000\n",
            "Total price is \n",
            "6000\n"
          ]
        }
      ]
    },
    {
      "cell_type": "code",
      "source": [
        "5"
      ],
      "metadata": {
        "colab": {
          "base_uri": "https://localhost:8080/",
          "height": 0
        },
        "id": "S7a4U7QlWtvm",
        "outputId": "d6e161ab-b60e-49a9-f0a2-eccd443ea4ba"
      },
      "execution_count": 27,
      "outputs": [
        {
          "output_type": "execute_result",
          "data": {
            "text/plain": [
              "5"
            ]
          },
          "metadata": {},
          "execution_count": 27
        }
      ]
    },
    {
      "cell_type": "code",
      "source": [],
      "metadata": {
        "id": "dH1O9KKgaANL"
      },
      "execution_count": null,
      "outputs": []
    }
  ]
}